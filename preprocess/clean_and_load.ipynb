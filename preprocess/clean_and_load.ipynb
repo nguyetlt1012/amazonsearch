{
 "cells": [
  {
   "cell_type": "code",
   "execution_count": null,
   "metadata": {},
   "outputs": [],
   "source": [
    "!pip3 -q install eland sentence_transformers transformers elasticsearch\n"
   ]
  },
  {
   "cell_type": "code",
   "execution_count": 2,
   "metadata": {},
   "outputs": [],
   "source": [
    "from elasticsearch import Elasticsearch\n",
    "import time \n",
    "import pandas as pd \n",
    "from sentence_transformers import SentenceTransformer"
   ]
  },
  {
   "cell_type": "markdown",
   "metadata": {},
   "source": [
    "## Clean "
   ]
  },
  {
   "cell_type": "code",
   "execution_count": 38,
   "metadata": {},
   "outputs": [
    {
     "data": {
      "text/html": [
       "<div>\n",
       "<style scoped>\n",
       "    .dataframe tbody tr th:only-of-type {\n",
       "        vertical-align: middle;\n",
       "    }\n",
       "\n",
       "    .dataframe tbody tr th {\n",
       "        vertical-align: top;\n",
       "    }\n",
       "\n",
       "    .dataframe thead th {\n",
       "        text-align: right;\n",
       "    }\n",
       "</style>\n",
       "<table border=\"1\" class=\"dataframe\">\n",
       "  <thead>\n",
       "    <tr style=\"text-align: right;\">\n",
       "      <th></th>\n",
       "      <th>id</th>\n",
       "      <th>category</th>\n",
       "      <th>title</th>\n",
       "      <th>description</th>\n",
       "      <th>brand</th>\n",
       "      <th>mrp</th>\n",
       "      <th>price</th>\n",
       "      <th>offers</th>\n",
       "      <th>stock_availibility</th>\n",
       "      <th>product_asin</th>\n",
       "      <th>image_urls</th>\n",
       "    </tr>\n",
       "  </thead>\n",
       "  <tbody>\n",
       "    <tr>\n",
       "      <th>0</th>\n",
       "      <td>eb49cc038190f6f03c272f79fbbce894</td>\n",
       "      <td>Skin Care</td>\n",
       "      <td>Lee posh Lactic Acid 60% Anti ageing Pigmenta...</td>\n",
       "      <td>PROFESSIONAL GRADE Face Peel: this peel stimul...</td>\n",
       "      <td>Lee Posh</td>\n",
       "      <td>2000.00</td>\n",
       "      <td>799.00</td>\n",
       "      <td>60.05%</td>\n",
       "      <td>True</td>\n",
       "      <td>B072BGHNJ1</td>\n",
       "      <td>https://images-na.ssl-images-amazon.com/images...</td>\n",
       "    </tr>\n",
       "    <tr>\n",
       "      <th>1</th>\n",
       "      <td>1657cc30c438affede6a5060d6847363</td>\n",
       "      <td>Skin Care</td>\n",
       "      <td>Branded SLB Works New 1.5mm Titanium 1200 nee...</td>\n",
       "      <td>Item name: 1.5mm titanium 1200 needles microne...</td>\n",
       "      <td>SLB Works</td>\n",
       "      <td>2040.00</td>\n",
       "      <td>2040.00</td>\n",
       "      <td>0%</td>\n",
       "      <td>True</td>\n",
       "      <td>B07QDTZYSJ</td>\n",
       "      <td>https://images-na.ssl-images-amazon.com/images...</td>\n",
       "    </tr>\n",
       "    <tr>\n",
       "      <th>2</th>\n",
       "      <td>41654633cce38c8650690f6dbac01fd3</td>\n",
       "      <td>Skin Care</td>\n",
       "      <td>Generic 1 Pc brand snail eye cream remove dar...</td>\n",
       "      <td>Use: eye, item type: cream, net wt: 20g, gzzz:...</td>\n",
       "      <td>Generic</td>\n",
       "      <td>1824.00</td>\n",
       "      <td>1042.00</td>\n",
       "      <td>42.87%</td>\n",
       "      <td>True</td>\n",
       "      <td>B07DCSN8MP</td>\n",
       "      <td>https://images-na.ssl-images-amazon.com/images...</td>\n",
       "    </tr>\n",
       "    <tr>\n",
       "      <th>3</th>\n",
       "      <td>08b1bd85c3efc2d7aa556fd79b073382</td>\n",
       "      <td>Skin Care</td>\n",
       "      <td>Generic Anti Snoring Snore Stopper Sleep Apne...</td>\n",
       "      <td>Prevent the tongue from dropping backward or b...</td>\n",
       "      <td>Generic</td>\n",
       "      <td>2185.00</td>\n",
       "      <td>1399.00</td>\n",
       "      <td>35.97%</td>\n",
       "      <td>True</td>\n",
       "      <td>B07GLW9VQN</td>\n",
       "      <td>https://images-na.ssl-images-amazon.com/images...</td>\n",
       "    </tr>\n",
       "    <tr>\n",
       "      <th>4</th>\n",
       "      <td>3ac3f213732512d1d11bb73ab3b1900f</td>\n",
       "      <td>Grocery &amp; Gourmet Foods</td>\n",
       "      <td>Harveys Crunchy &amp; Creame Gourmet Delicacies C...</td>\n",
       "      <td>Harvey's wafer Cream Wafer 110g. Made in India</td>\n",
       "      <td>Harveys</td>\n",
       "      <td>594.00</td>\n",
       "      <td>570.00</td>\n",
       "      <td>4.04%</td>\n",
       "      <td>True</td>\n",
       "      <td>B07NFYYLF1</td>\n",
       "      <td>https://images-na.ssl-images-amazon.com/images...</td>\n",
       "    </tr>\n",
       "  </tbody>\n",
       "</table>\n",
       "</div>"
      ],
      "text/plain": [
       "                                 id                 category  \\\n",
       "0  eb49cc038190f6f03c272f79fbbce894                Skin Care   \n",
       "1  1657cc30c438affede6a5060d6847363                Skin Care   \n",
       "2  41654633cce38c8650690f6dbac01fd3                Skin Care   \n",
       "3  08b1bd85c3efc2d7aa556fd79b073382                Skin Care   \n",
       "4  3ac3f213732512d1d11bb73ab3b1900f  Grocery & Gourmet Foods   \n",
       "\n",
       "                                               title  \\\n",
       "0   Lee posh Lactic Acid 60% Anti ageing Pigmenta...   \n",
       "1   Branded SLB Works New 1.5mm Titanium 1200 nee...   \n",
       "2   Generic 1 Pc brand snail eye cream remove dar...   \n",
       "3   Generic Anti Snoring Snore Stopper Sleep Apne...   \n",
       "4   Harveys Crunchy & Creame Gourmet Delicacies C...   \n",
       "\n",
       "                                         description      brand      mrp  \\\n",
       "0  PROFESSIONAL GRADE Face Peel: this peel stimul...   Lee Posh  2000.00   \n",
       "1  Item name: 1.5mm titanium 1200 needles microne...  SLB Works  2040.00   \n",
       "2  Use: eye, item type: cream, net wt: 20g, gzzz:...    Generic  1824.00   \n",
       "3  Prevent the tongue from dropping backward or b...    Generic  2185.00   \n",
       "4     Harvey's wafer Cream Wafer 110g. Made in India    Harveys   594.00   \n",
       "\n",
       "     price  offers  stock_availibility product_asin  \\\n",
       "0   799.00  60.05%                True   B072BGHNJ1   \n",
       "1  2040.00      0%                True   B07QDTZYSJ   \n",
       "2  1042.00  42.87%                True   B07DCSN8MP   \n",
       "3  1399.00  35.97%                True   B07GLW9VQN   \n",
       "4   570.00   4.04%                True   B07NFYYLF1   \n",
       "\n",
       "                                          image_urls  \n",
       "0  https://images-na.ssl-images-amazon.com/images...  \n",
       "1  https://images-na.ssl-images-amazon.com/images...  \n",
       "2  https://images-na.ssl-images-amazon.com/images...  \n",
       "3  https://images-na.ssl-images-amazon.com/images...  \n",
       "4  https://images-na.ssl-images-amazon.com/images...  "
      ]
     },
     "execution_count": 38,
     "metadata": {},
     "output_type": "execute_result"
    }
   ],
   "source": [
    "import pandas as pd\n",
    "df = pd.read_csv('./dataset/clean_products.csv')\n",
    "df.head()"
   ]
  },
  {
   "cell_type": "code",
   "execution_count": 39,
   "metadata": {},
   "outputs": [
    {
     "data": {
      "text/plain": [
       "id                    object\n",
       "category              object\n",
       "title                 object\n",
       "description           object\n",
       "brand                 object\n",
       "mrp                   object\n",
       "price                 object\n",
       "offers                object\n",
       "stock_availibility      bool\n",
       "product_asin          object\n",
       "image_urls            object\n",
       "dtype: object"
      ]
     },
     "execution_count": 39,
     "metadata": {},
     "output_type": "execute_result"
    }
   ],
   "source": [
    "df.dtypes"
   ]
  },
  {
   "cell_type": "code",
   "execution_count": 45,
   "metadata": {},
   "outputs": [
    {
     "data": {
      "text/plain": [
       "Skin Care                    13656\n",
       "Grocery and Gourmet Foods     7369\n",
       "Hair Care                     2261\n",
       "Fragrance                     1966\n",
       "Bath and Shower               1960\n",
       "Detergents and Dishwash        176\n",
       "Name: category, dtype: int64"
      ]
     },
     "execution_count": 45,
     "metadata": {},
     "output_type": "execute_result"
    }
   ],
   "source": [
    "df['category'].value_counts()"
   ]
  },
  {
   "cell_type": "code",
   "execution_count": 44,
   "metadata": {},
   "outputs": [],
   "source": [
    "df[\"category\"] = df[\"category\"].apply(lambda x: x.replace(\"&\", \"and\"))\n",
    "# df['category'].replace('&','and', inplace=True)"
   ]
  },
  {
   "cell_type": "code",
   "execution_count": 49,
   "metadata": {},
   "outputs": [],
   "source": [
    "df['price'] = pd.to_numeric(df['price'], errors='coerce')"
   ]
  },
  {
   "cell_type": "markdown",
   "metadata": {},
   "source": [
    "## Encode "
   ]
  },
  {
   "cell_type": "code",
   "execution_count": 5,
   "metadata": {},
   "outputs": [
    {
     "name": "stderr",
     "output_type": "stream",
     "text": [
      "/home/edtechai/venv/lib/python3.11/site-packages/tqdm/auto.py:21: TqdmWarning: IProgress not found. Please update jupyter and ipywidgets. See https://ipywidgets.readthedocs.io/en/stable/user_install.html\n",
      "  from .autonotebook import tqdm as notebook_tqdm\n",
      "/home/edtechai/venv/lib/python3.11/site-packages/torch/cuda/__init__.py:141: UserWarning: CUDA initialization: The NVIDIA driver on your system is too old (found version 11040). Please update your GPU driver by downloading and installing a new version from the URL: http://www.nvidia.com/Download/index.aspx Alternatively, go to: https://pytorch.org to install a PyTorch version that has been compiled with your version of the CUDA driver. (Triggered internally at ../c10/cuda/CUDAFunctions.cpp:108.)\n",
      "  return torch._C._cuda_getDeviceCount() > 0\n"
     ]
    }
   ],
   "source": [
    "from sentence_transformers import SentenceTransformer\n",
    "model = SentenceTransformer('all-MiniLM-L6-v2')"
   ]
  },
  {
   "cell_type": "code",
   "execution_count": 53,
   "metadata": {},
   "outputs": [],
   "source": [
    "# Merge title with description\n",
    "df['title_description'] = 'Product name is ' + df['title'] +'. With description: '+ df['description']"
   ]
  },
  {
   "cell_type": "code",
   "execution_count": 54,
   "metadata": {},
   "outputs": [],
   "source": [
    "df[\"description_vector\"] = df[\"title_description\"].apply(lambda x: model.encode(x))\n"
   ]
  },
  {
   "cell_type": "markdown",
   "metadata": {},
   "source": [
    "## Indexing data"
   ]
  },
  {
   "cell_type": "code",
   "execution_count": 3,
   "metadata": {},
   "outputs": [
    {
     "data": {
      "text/plain": [
       "True"
      ]
     },
     "execution_count": 3,
     "metadata": {},
     "output_type": "execute_result"
    }
   ],
   "source": [
    "client = Elasticsearch('http://localhost:9200')\n",
    "client.ping()"
   ]
  },
  {
   "cell_type": "code",
   "execution_count": 65,
   "metadata": {},
   "outputs": [
    {
     "data": {
      "text/plain": [
       "ObjectApiResponse({'acknowledged': True})"
      ]
     },
     "execution_count": 65,
     "metadata": {},
     "output_type": "execute_result"
    }
   ],
   "source": [
    "client.indices.delete(index='ecommerce_search')"
   ]
  },
  {
   "cell_type": "code",
   "execution_count": 66,
   "metadata": {},
   "outputs": [
    {
     "data": {
      "text/plain": [
       "ObjectApiResponse({'acknowledged': True, 'shards_acknowledged': True, 'index': 'ecommerce_search'})"
      ]
     },
     "execution_count": 66,
     "metadata": {},
     "output_type": "execute_result"
    }
   ],
   "source": [
    "mapping = {\n",
    "    \"properties\": {\n",
    "        \"id\": {\n",
    "            \"type\": \"text\",\n",
    "        },\n",
    "        \"description\": {\n",
    "            \"type\": \"text\",\n",
    "        },\n",
    "        \"category\": {\n",
    "            \"type\": \"text\",\n",
    "        },\n",
    "        \"title\": {\n",
    "            \"type\": \"text\",\n",
    "        },\n",
    "        \"brand\": {\n",
    "            \"type\": \"text\",\n",
    "        },\n",
    "        \"mrp\": {\n",
    "            \"type\": \"text\",\n",
    "        },\n",
    "        \"price\": {\n",
    "            \"type\": \"double\",\n",
    "        },\n",
    "        \"offers\": {\n",
    "            \"type\": \"text\",\n",
    "        },\n",
    "        \"stock_availibility\": {\n",
    "            \"type\": \"boolean\",\n",
    "        },\n",
    "        \"product_asin\": {\n",
    "            \"type\": \"text\",\n",
    "        },\n",
    "        \"image_urls\": {\n",
    "            \"type\": \"text\",\n",
    "        },\n",
    "        \"description_vector\": {  # Inference results field, target_field.predicted_value\n",
    "            \"type\": \"dense_vector\",\n",
    "            \"dims\": 768,  # The all-mpnet-base-v2 model has embedding_size of 768, so dims is set to 768.\n",
    "            \"index\": \"true\",\n",
    "            \"similarity\": \"l2_norm\",  #  When indexing vectors for approximate kNN search, you need to specify the similarity function for comparing the vectors.\n",
    "        },\n",
    "    },\n",
    "}\n",
    "client.indices.create(index=\"ecommerce_search\", mappings=mapping)"
   ]
  },
  {
   "cell_type": "code",
   "execution_count": 62,
   "metadata": {},
   "outputs": [],
   "source": [
    "df1 = df.dropna()"
   ]
  },
  {
   "cell_type": "code",
   "execution_count": 67,
   "metadata": {},
   "outputs": [],
   "source": [
    "record_list = df1.to_dict(\"records\")"
   ]
  },
  {
   "cell_type": "code",
   "execution_count": 68,
   "metadata": {},
   "outputs": [],
   "source": [
    "for record in record_list:\n",
    "    try:\n",
    "        # record['description_vector'] = 'null'\n",
    "        client.index(index=\"ecommerce_search\", document=record, id=record[\"id\"])\n",
    "    except Exception as e:\n",
    "        print(e)\n",
    "    "
   ]
  },
  {
   "cell_type": "code",
   "execution_count": 69,
   "metadata": {},
   "outputs": [
    {
     "data": {
      "text/plain": [
       "ObjectApiResponse({'count': 27328, '_shards': {'total': 1, 'successful': 1, 'skipped': 0, 'failed': 0}})"
      ]
     },
     "execution_count": 69,
     "metadata": {},
     "output_type": "execute_result"
    }
   ],
   "source": [
    "client.count(index='ecommerce_search')"
   ]
  },
  {
   "cell_type": "markdown",
   "metadata": {},
   "source": [
    "## Test "
   ]
  },
  {
   "cell_type": "code",
   "execution_count": 8,
   "metadata": {},
   "outputs": [
    {
     "name": "stdout",
     "output_type": "stream",
     "text": [
      "\n",
      "Score: 0.72413087\n",
      "Product:  Kopari Sundaze Mineral Face Sunscreen Lotion SPF 30 | Fragrance Free Zinc Oxide Mineral-Based Daily Sunscreen with Hyaluronic Acid and Coconut Water \n",
      "Category: Skin Care\n",
      " Price: 9670.0\n",
      "\n",
      "Score: 1.6433403\n",
      "Product:  Exfoliating Body Lotion – 12% Lactic Acid body lotion, provides immediate moisture and gentle exfoliation to treat symptoms associated with keratosis pilaris, dry skin, flakiness, chicken skin, and other dry skin conditions. \n",
      "Category: Skin Care\n",
      " Price: 9110.0\n",
      "\n",
      "Score: 1.0679411\n",
      "Product:  Replenix Pure Hydration Hyaluronic Acid Serum - 1 fl oz \n",
      "Category: Skin Care\n",
      " Price: 8767.0\n",
      "\n",
      "Score: 0.9624846\n",
      "Product:  YASHUS Hyaluronic Acid Face Cream Skin Care Whitening Reverse Aging Repair Moisture \n",
      "Category: Skin Care\n",
      " Price: 8736.0\n",
      "\n",
      "Score: 1.1926383\n",
      "Product:  60 pcs/bottle Gold Crystal Collagen Eye Patches Eye Mask \n",
      "Category: Skin Care\n",
      " Price: 8190.0\n",
      "\n",
      "Score: 0.8264655\n",
      "Product:  SWD prime Hyaluronic Cleanser Amino acid gentle facial cleaning formula Gently clean dirt oil make-up Cleaning \n",
      "Category: Skin Care\n",
      " Price: 7945.0\n",
      "\n",
      "Score: 1.0453104\n",
      "Product:  Stockout GLOW RECIPE Watermelon Pink Juice Moisturizer - SIZE: 2 oz/ 60 mL - Standard size \n",
      "Category: Skin Care\n",
      " Price: 7799.0\n",
      "\n",
      "Score: 0.6443466\n",
      "Product:  Intensive Hydration & Firming Serum:The Most Luxury Pure Plant Based Hyaluronic Acid Makes This Intensive Hydration Serum, Paraben & Sulfate Free. An Anti-Aging Serum For All Skin Types! \n",
      "Category: Skin Care\n",
      " Price: 7720.0\n",
      "\n",
      "Score: 1.1084234\n",
      "Product:  Pumpkin Enzyme Masque, Mask, with 10% Glycolic Acid,... \n",
      "Category: Skin Care\n",
      " Price: 7694.0\n",
      "\n",
      "Score: 0.9624846\n",
      "Product:  Rose Whitening Foaming Gel with Hyaluronic Acid, Allantoin, Witch Hazel a... New \n",
      "Category: Skin Care\n",
      " Price: 7676.0\n",
      "\n",
      "Score: 0.72413087\n",
      "Product:  Botanical Beauty Absolute 24K Shimmer Fluid, 24 Karat Gold, Silk Peptides and Hyaluronic Acid for All Skin Types. (1 fl.oz-30 ml) \n",
      "Category: Skin Care\n",
      " Price: 7625.0\n",
      "\n",
      "Score: 0.87598336\n",
      "Product:  SWD Prime 120G Red Wine Polyphenols Mask Moisturizing Hyaluronic Acid Wash Free Oil Control Tender \n",
      "Category: Skin Care\n",
      " Price: 7620.0\n",
      "***************************\n",
      "0.05142784118652344\n"
     ]
    }
   ],
   "source": [
    "import time \n",
    "input_keyword = \"Lee posh Lactic Acid 60%\"\n",
    "start_time = time.time()\n",
    "res = client.search(\n",
    "    index='ecommerce_search', \n",
    "    from_=0,\n",
    "    size=12,\n",
    "    sort=[{'price': {'order': 'desc'}}, '_score'],\n",
    "    query={\n",
    "            \"match\": {\n",
    "            \"title\": {\n",
    "                \"query\": input_keyword,\n",
    "                \"boost\": 0.2\n",
    "            }\n",
    "        }\n",
    "        },\n",
    "    post_filter={\n",
    "        \"match\":{\n",
    "            \"category\": \"Skin Care\",\n",
    "            # \"boost\": 0.7\n",
    "        }\n",
    "    },\n",
    "    fields=['title', 'description', 'category', 'price'],\n",
    "    knn={\n",
    "        \"field\" : \"description_vector\",\n",
    "        \"query_vector\" : model.encode(input_keyword),\n",
    "        \"k\" : 10,\n",
    "        \"num_candidates\" : 50,\n",
    "        \"boost\": 0.8,\n",
    "    },\n",
    "    )\n",
    "hits = res[\"hits\"][\"hits\"]\n",
    "if not hits:\n",
    "    print(\"No matches found\")\n",
    "else:\n",
    "    # print(res['hits']['total'])\n",
    "    for hit in hits:\n",
    "        score = hit[\"_score\"]\n",
    "        product = hit[\"_source\"][\"title\"]\n",
    "        category = hit[\"_source\"][\"category\"]\n",
    "        # description = hit[\"_source\"][\"description\"]\n",
    "        price = hit[\"_source\"][\"price\"]\n",
    "        \n",
    "        print(\n",
    "            f\"\\nScore: {score}\\nProduct: {product}\\nCategory: {category}\\n Price: {price}\"\n",
    "        )\n",
    "\n",
    "print(\"***************************\")\n",
    "print(time.time() - start_time)\n",
    "t = \"Ecoplanet Aromatherapy\""
   ]
  }
 ],
 "metadata": {
  "kernelspec": {
   "display_name": "Python 3 (ipykernel)",
   "language": "python",
   "name": "python3"
  },
  "language_info": {
   "codemirror_mode": {
    "name": "ipython",
    "version": 3
   },
   "file_extension": ".py",
   "mimetype": "text/x-python",
   "name": "python",
   "nbconvert_exporter": "python",
   "pygments_lexer": "ipython3",
   "version": "3.11.5"
  }
 },
 "nbformat": 4,
 "nbformat_minor": 2
}
